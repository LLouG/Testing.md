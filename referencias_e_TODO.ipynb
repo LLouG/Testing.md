{
  "nbformat": 4,
  "nbformat_minor": 0,
  "metadata": {
    "colab": {
      "name": "Untitled3.ipynb",
      "provenance": [],
      "authorship_tag": "ABX9TyMR2+ev8u8amS3RpE7MlrJQ",
      "include_colab_link": true
    },
    "kernelspec": {
      "name": "python3",
      "display_name": "Python 3"
    }
  },
  "cells": [
    {
      "cell_type": "markdown",
      "metadata": {
        "id": "view-in-github",
        "colab_type": "text"
      },
      "source": [
        "<a href=\"https://colab.research.google.com/github/LLouG/Testing.md/blob/master/referencias_e_TODO.ipynb\" target=\"_parent\"><img src=\"https://colab.research.google.com/assets/colab-badge.svg\" alt=\"Open In Colab\"/></a>"
      ]
    },
    {
      "cell_type": "code",
      "metadata": {
        "id": "L3jI1akJ8102",
        "colab_type": "code",
        "colab": {
          "base_uri": "https://localhost:8080/",
          "height": 68
        },
        "outputId": "636b3c9b-4d0d-4135-f6e3-215146b03703"
      },
      "source": [
        "n1 = int(input('Digite um número: '))\n",
        "print('O número sucessor é {}'.format(n1 + 1))\n",
        "print('O número antecessor é {}'.format(n1 - 1))"
      ],
      "execution_count": 13,
      "outputs": [
        {
          "output_type": "stream",
          "text": [
            "Digite um número: 7\n",
            "O número sucessor é 8\n",
            "O número antecessor é 6\n"
          ],
          "name": "stdout"
        }
      ]
    },
    {
      "cell_type": "code",
      "metadata": {
        "id": "3CDS-FR5EWD1",
        "colab_type": "code",
        "colab": {
          "base_uri": "https://localhost:8080/",
          "height": 51
        },
        "outputId": "6c6ba748-ddca-4f65-8d9c-ea149dcf1231"
      },
      "source": [
        "n2 = int(input('Digite um número: '))\n",
        "d, t, r = (n2*2, n2*3, n2**2)\n",
        "print('O dobro de {} equivale a {}, o triplo equivale a {} e a raíz quadrada é {}'.format(n2, d, t, r))"
      ],
      "execution_count": 16,
      "outputs": [
        {
          "output_type": "stream",
          "text": [
            "Digite um número: 5\n",
            "O dobro de 5 equivale a 10, o triplo equivale a 15 e a raíz quadrada é 25\n"
          ],
          "name": "stdout"
        }
      ]
    },
    {
      "cell_type": "code",
      "metadata": {
        "id": "F851OxvaFNZW",
        "colab_type": "code",
        "colab": {
          "base_uri": "https://localhost:8080/",
          "height": 68
        },
        "outputId": "092205e5-4607-4ab5-bc09-bec770a6d850"
      },
      "source": [
        "nota1 = int(input('Digite a primeira nota: '))\n",
        "nota2 = int(input('Digite a segunda nota: '))\n",
        "print('A média é de {}'.format((nota1+nota2)/2))"
      ],
      "execution_count": 20,
      "outputs": [
        {
          "output_type": "stream",
          "text": [
            "Digite a primeira nota: 10\n",
            "Digite a segunda nota: 5\n",
            "A média é de 7.5\n"
          ],
          "name": "stdout"
        }
      ]
    },
    {
      "cell_type": "code",
      "metadata": {
        "id": "4WC5z18sHnuH",
        "colab_type": "code",
        "colab": {
          "base_uri": "https://localhost:8080/",
          "height": 51
        },
        "outputId": "0e388b99-ea38-454c-ca8b-47784901d7a3"
      },
      "source": [
        "metro = int(input('Digite o valor desejado em metros: '))\n",
        "cm, mm = (metro*100, cm*10)\n",
        "print('{} metros equivale a {} centimetros e {} milimetros.'.format(metro, cm, mm))"
      ],
      "execution_count": 27,
      "outputs": [
        {
          "output_type": "stream",
          "text": [
            "Digite o valor desejado em metros: 1\n",
            "1 metros equivale a 100 centimetros e 5000 milimetros.\n"
          ],
          "name": "stdout"
        }
      ]
    },
    {
      "cell_type": "code",
      "metadata": {
        "id": "Xs50eQ28Jp3N",
        "colab_type": "code",
        "colab": {
          "base_uri": "https://localhost:8080/",
          "height": 51
        },
        "outputId": "979d1475-ae61-48f9-b6aa-4d5eb454c5bb"
      },
      "source": [
        "n3 = int(input('Digite um número: '))\n",
        "tb = n3*1, n3*2, n3*3, n3*4\n",
        "print('{}*1, {}*2, {}*3'.format(n3, n3, n3))"
      ],
      "execution_count": 93,
      "outputs": [
        {
          "output_type": "stream",
          "text": [
            "Digite um número: 5\n",
            "5*1=(5, 10, 15, 20), 5*2, 5*3\n"
          ],
          "name": "stdout"
        }
      ]
    },
    {
      "cell_type": "code",
      "metadata": {
        "id": "NXgUl5qERchZ",
        "colab_type": "code",
        "colab": {
          "base_uri": "https://localhost:8080/",
          "height": 51
        },
        "outputId": "8da00f37-4e0c-404e-db63-0995e2ac30cd"
      },
      "source": [
        "rs = float(input('Digite um valor em R$ para ser convertido em U$D: '))\n",
        "dolar = float(rs * 3.27)\n",
        "print('R$ {:.3} na cotação atual vale U$D {:.3}'.format(rs, dolar))\n"
      ],
      "execution_count": 158,
      "outputs": [
        {
          "output_type": "stream",
          "text": [
            "Digite um valor em R$ para ser convertido em U$D: 3.23\n",
            "R$ 3.23 na cotação atual vale U$D 10.6\n"
          ],
          "name": "stdout"
        }
      ]
    },
    {
      "cell_type": "code",
      "metadata": {
        "id": "RYqdOCmiWueO",
        "colab_type": "code",
        "colab": {
          "base_uri": "https://localhost:8080/",
          "height": 68
        },
        "outputId": "8d85513c-a969-402f-a776-55c80bf70dbd"
      },
      "source": [
        "#TODO: o valor está retornando rounded\n",
        "at = float(input('Digite a altura: '))\n",
        "lg = float(input('Digite a largura: '))\n",
        "tn = (at * lg)//2\n",
        "print('Será necessário {:.3} litros de tinta para realizar a pintura da medida informada.'.format(tn))"
      ],
      "execution_count": 147,
      "outputs": [
        {
          "output_type": "stream",
          "text": [
            "Digite a altura: 3\n",
            "Digite a largura: 3\n",
            "<class 'float'>\n"
          ],
          "name": "stdout"
        }
      ]
    },
    {
      "cell_type": "code",
      "metadata": {
        "id": "ClLxkxAMabdY",
        "colab_type": "code",
        "colab": {
          "base_uri": "https://localhost:8080/",
          "height": 51
        },
        "outputId": "57e60dd1-2ed8-4a6b-de77-0c529ca5ff3d"
      },
      "source": [
        "#TODO: retornar o valor do produto com 5% de desconto\n",
        "pc = int(input('Digite o preço do produto: '))\n",
        "print('O preço com desconto de 5% será de {}.'.format(pc // 5))"
      ],
      "execution_count": 157,
      "outputs": [
        {
          "output_type": "stream",
          "text": [
            "Digite o preço do produto: 100\n",
            "O preço com desconto de 5% será de 20.\n"
          ],
          "name": "stdout"
        }
      ]
    },
    {
      "cell_type": "code",
      "metadata": {
        "id": "U2DwVPIybze7",
        "colab_type": "code",
        "colab": {}
      },
      "source": [
        "#Faça um algoritmo que leia o salário de um funcionário e retorne o valor com 15% de aumento"
      ],
      "execution_count": null,
      "outputs": []
    }
  ]
}